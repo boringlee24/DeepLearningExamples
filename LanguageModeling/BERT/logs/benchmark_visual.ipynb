{
 "cells": [
  {
   "cell_type": "code",
   "execution_count": 1,
   "id": "43dbc9e9",
   "metadata": {},
   "outputs": [],
   "source": [
    "import matplotlib\n",
    "matplotlib.use('tkAgg')\n",
    "import matplotlib.pyplot as plt\n",
    "import glob\n",
    "import sys\n",
    "from matplotlib.ticker import MultipleLocator\n",
    "import json\n",
    "import os\n",
    "import pandas as pd\n",
    "import numpy as np\n",
    "import pdb\n",
    "from IPython.display import Image"
   ]
  },
  {
   "cell_type": "code",
   "execution_count": 7,
   "id": "discrete-center",
   "metadata": {},
   "outputs": [],
   "source": [
    "batches = [1, 2, 4, 8]\n",
    "models = ['base']\n",
    "sequences = [128, 384]\n",
    "precisions = ['amp', 'noamp']\n",
    "LABELS = ['FP16', 'FP32']\n",
    "colors = ['orangered', 'deepskyblue']\n",
    "\n",
    "fig1, axs1 = plt.subplots(1, 2, gridspec_kw={'hspace': 0.2, 'wspace': 0.23, 'bottom': 0.2, 'top': 0.83, 'right':0.995, 'left':0.15}, figsize=(7,3))\n",
    "fig2, axs2 = plt.subplots(1, 2, gridspec_kw={'hspace': 0.2, 'wspace': 0.23, 'bottom': 0.2, 'top': 0.83, 'right':0.995, 'left':0.15}, figsize=(7,3))\n",
    "fig3, axs3 = plt.subplots(1, 2, gridspec_kw={'hspace': 0.2, 'wspace': 0.23, 'bottom': 0.2, 'top': 0.83, 'right':0.995, 'left':0.15}, figsize=(7,3))\n",
    "fig4, axs4 = plt.subplots(1, 2, gridspec_kw={'hspace': 0.2, 'wspace': 0.23, 'bottom': 0.2, 'top': 0.83, 'right':0.995, 'left':0.15}, figsize=(7,3))\n",
    "origin = 'squad_origin.log'\n",
    "trt = 'squad_trt.log'\n",
    "x = np.arange(len(batches))\n",
    "width=0.2\n",
    "bar_offset = [-0.5, 0.5]"
   ]
  },
  {
   "cell_type": "code",
   "execution_count": 8,
   "id": "marine-hunter",
   "metadata": {},
   "outputs": [
    {
     "data": {
      "text/plain": [
       "Text(0, 0.5, 'TRT 99th Tail\\nLatency (Norm.)')"
      ]
     },
     "execution_count": 8,
     "metadata": {},
     "output_type": "execute_result"
    }
   ],
   "source": [
    "for model in models:\n",
    "    i = models.index(model)\n",
    "    for seq in sequences:\n",
    "        j = sequences.index(seq)\n",
    "        for axs in [axs1, axs2, axs3, axs4]:\n",
    "            axs[j].set_title(f'Sequence Length {seq}', fontsize=14)\n",
    "        for pre in precisions:\n",
    "            qps, mean, tail, tail99 = [], [], [], []\n",
    "            ind = precisions.index(pre)\n",
    "            for batch in batches:\n",
    "                key = f'{model} {seq} {batch} --{pre}'\n",
    "                with open(origin) as file:\n",
    "                    lines_origin = file.readlines()\n",
    "                    lines_origin = [line.rstrip() for line in lines_origin]\n",
    "                for line in lines_origin:\n",
    "                    if key in line:\n",
    "                        meas = line.split(' ')        \n",
    "                        qps_origin = float(meas[4])\n",
    "                        mean_lat_origin = float(meas[5])\n",
    "                        tail_lat_origin = float(meas[-2]) # 95th tail\n",
    "                        tail_99_origin = float(meas[-1])\n",
    "                        break\n",
    "                with open(trt) as file:\n",
    "                    lines_trt = file.readlines()\n",
    "                    lines_trt = [line.rstrip() for line in lines_trt]\n",
    "                for line in lines_trt:\n",
    "                    if key in line:\n",
    "                        meas = line.split(' ')        \n",
    "                        qps_trt = float(meas[4])\n",
    "                        mean_lat_trt = float(meas[5])\n",
    "                        tail_lat_trt = float(meas[-2]) # 95th tail\n",
    "                        tail_99_trt = float(meas[-1])\n",
    "                        break\n",
    "                qps.append(qps_trt / qps_origin)\n",
    "                mean.append(mean_lat_trt / mean_lat_origin)\n",
    "                tail.append(tail_lat_trt / tail_lat_origin)\n",
    "                tail99.append(tail_99_trt / tail_99_origin)\n",
    "            axs1[j].bar(x+width*bar_offset[ind], qps, width=width, color=colors[ind], label=LABELS[ind], \n",
    "                edgecolor='black', zorder=3)\n",
    "            axs2[j].bar(x+width*bar_offset[ind], mean, width=width, color=colors[ind], label=LABELS[ind], \n",
    "                edgecolor='black', zorder=3)\n",
    "            axs3[j].bar(x+width*bar_offset[ind], tail, width=width, color=colors[ind], label=LABELS[ind], \n",
    "                edgecolor='black', zorder=3)     \n",
    "            axs4[j].bar(x+width*bar_offset[ind], tail99, width=width, color=colors[ind], label=LABELS[ind], \n",
    "                edgecolor='black', zorder=3)                 \n",
    "for axs in [axs1, axs2, axs3, axs4]:\n",
    "    axs[1].legend(fontsize=12)\n",
    "    for ax in axs:\n",
    "        ax.set_xticks(x)\n",
    "        ax.set_xticklabels(batches, fontsize=14)\n",
    "        ax.grid(which='major', axis='y', ls='dashed')\n",
    "        ax.tick_params(axis='y', labelsize=14)\n",
    "        ax.set_xlabel('Batch Size', fontsize=14)\n",
    "axs1[0].set_ylabel('TRT Inference\\nThroughput (Norm.)', fontsize=14)\n",
    "axs2[0].set_ylabel('TRT Mean\\nLatency (Norm.)', fontsize=14)\n",
    "axs3[0].set_ylabel('TRT 95th Tail\\nLatency (Norm.)', fontsize=14)\n",
    "axs4[0].set_ylabel('TRT 99th Tail\\nLatency (Norm.)', fontsize=14)\n",
    "#axs.set_ylim(0, 1.8)        "
   ]
  },
  {
   "cell_type": "code",
   "execution_count": 4,
   "id": "structural-suicide",
   "metadata": {},
   "outputs": [],
   "source": [
    "fig1.show()\n",
    "fig2.show()\n",
    "fig3.show()\n",
    "fig4.show()"
   ]
  },
  {
   "cell_type": "code",
   "execution_count": 9,
   "id": "attempted-economy",
   "metadata": {},
   "outputs": [],
   "source": [
    "fig1.savefig('plots/qps.png')\n",
    "fig2.savefig('plots/mean.png')\n",
    "fig3.savefig('plots/tail95.png')\n",
    "fig4.savefig('plots/tail99.png')"
   ]
  },
  {
   "cell_type": "code",
   "execution_count": null,
   "id": "lucky-assistant",
   "metadata": {},
   "outputs": [],
   "source": []
  }
 ],
 "metadata": {
  "kernelspec": {
   "display_name": "Python 3",
   "language": "python",
   "name": "python3"
  },
  "language_info": {
   "codemirror_mode": {
    "name": "ipython",
    "version": 3
   },
   "file_extension": ".py",
   "mimetype": "text/x-python",
   "name": "python",
   "nbconvert_exporter": "python",
   "pygments_lexer": "ipython3",
   "version": "3.7.9"
  }
 },
 "nbformat": 4,
 "nbformat_minor": 5
}
